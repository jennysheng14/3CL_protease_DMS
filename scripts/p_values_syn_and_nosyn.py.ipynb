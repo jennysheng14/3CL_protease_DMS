{
 "cells": [
  {
   "cell_type": "code",
   "execution_count": 12,
   "id": "4ddf9594",
   "metadata": {},
   "outputs": [],
   "source": [
    "import pandas as pd\n",
    "import plotly.io as pio\n",
    "from pathlib import Path\n",
    "import matrix_transform\n",
    "import numpy as np\n",
    "import plotly.graph_objects as go\n",
    "import snakemake_funcs as sf\n",
    "from Bio.Seq import Seq\n",
    "import visualize\n",
    "from scipy import stats\n",
    "import plotly.express as px\n",
    "import re\n",
    "import function_bio_rep\n",
    "import statsmodels.stats.multitest as multitest\n",
    "\n",
    "%matplotlib inline\n",
    "pio.orca.config.use_xvfb = True\n",
    "colors = ['#D81B60', '#1E88E5', '#FFC107', '#31B547']"
   ]
  },
  {
   "cell_type": "code",
   "execution_count": 2,
   "id": "847cb68d",
   "metadata": {},
   "outputs": [],
   "source": [
    "grouped_aa = ['H', 'K','R','D','E','C','M','N','Q','S','T','A',\\\n",
    "             'I','L','V','F','W','Y','G','P','*']\n",
    "wt_full = ('MSGFRKMAFPSGKVEGCMVQVTCGTTTLNGLWLDDVVYCPRHVICT'\n",
    "           'SEDMLNPNYEDLLIRKSNHNFLVQAGNVQLRVIGHSMQNCVLKLKV'\n",
    "           'DTANPKTPKYKFVRIQPGQTFSVLACYNGSPSGVYQCAMRPNFTIK'\n",
    "           'GSFLNGSCGSVGFNIDYDCVSFCYMHHMELPTGVHAGTDLEGNFYG'\n",
    "           'PFVDRQTAQAAGTDTTITVNVLAWLYAAVINGDRWFLNRFTTTLND'\n",
    "           'FNLVAMKYNYEPLTQDHVDILGPLSAQTGIAVLDMCASLKELLQNG'\n",
    "           'MNGRTILGSALLEDEFTPFDVVRQCSGVTFQ')\n",
    "spreadsheet = \"sample_spreadsheet_042021.csv\""
   ]
  },
  {
   "cell_type": "code",
   "execution_count": 3,
   "id": "e2457175",
   "metadata": {},
   "outputs": [],
   "source": [
    "def p_values_means(comp1, comp2, cond):\n",
    "    '''\n",
    "    Calculates p values when synonymous codings are not being considered. \n",
    "    comp1 being the condition on the x axis\n",
    "    comp2 being the condition on the y axis\n",
    "    cond being the conditionn taking on values of '_nosyn' or ''.\n",
    "    '''\n",
    "    summary = []\n",
    "    file1 = '/home/jennysheng/Yeast/wt_STOP_matrices'+ cond + '/'+ comp1 + '.csv'\n",
    "    file2 = '/home/jennysheng/Yeast/wt_STOP_matrices'+ cond + '/'+ comp2 + '.csv'\n",
    "    cond1_df = pd.read_csv(file1, index_col = 0)\n",
    "    cond2_df = pd.read_csv(file2, index_col = 0)\n",
    "    cond1_mean = pd.melt(cond1_df.reset_index(), id_vars='index')\n",
    "    cond2_mean = pd.melt(cond2_df.reset_index(), id_vars='index')\n",
    "    file1_std = pd.read_csv('/home/jennysheng/Yeast/std_wt_STOP' + \\\n",
    "                            cond + '/'+ comp1 + '.csv', index_col = 0)\n",
    "    file2_std = pd.read_csv('/home/jennysheng/Yeast/std_wt_STOP' + \\\n",
    "                            cond + '/'+ comp2 + '.csv', index_col = 0)\n",
    "    cond1_std = pd.melt(file1_std.reset_index(), id_vars='index')\n",
    "    cond2_std = pd.melt(file2_std.reset_index(), id_vars='index')\n",
    "    norm_merge = cond1_mean.merge(cond2_mean, on = ['index', 'variable'])\n",
    "    std_merge = cond1_std.merge(cond2_std, on = ['index', 'variable'])\n",
    "    std_merge.columns = ['index', 'variable', 'std_x', 'std_y']\n",
    "    #number of observations\n",
    "    nobs1 = '/home/jennysheng/Yeast/len_variants'+ cond + '/'+ comp1 + '.csv'\n",
    "    nobs2 = '/home/jennysheng/Yeast/len_variants'+ cond + '/'+ comp2 + '.csv'\n",
    "    nobs1 = pd.read_csv(nobs1, index_col = 0)\n",
    "    nobs2 = pd.read_csv(nobs2, index_col = 0)\n",
    "    cond1_nobs = pd.melt(nobs1.reset_index(), id_vars='index')\n",
    "    cond2_nobs = pd.melt(nobs2.reset_index(), id_vars='index')\n",
    "    nobs_merge = cond1_nobs.merge(cond2_nobs, on = ['index', 'variable'])\n",
    "    nobs_merge.columns = ['index', 'variable', 'nobs_x', 'nobs_y']\n",
    "    all_stats = norm_merge.merge(std_merge, on = ['index', 'variable'])\n",
    "    all_stats = all_stats.merge(nobs_merge, on = ['index', 'variable'])\n",
    "    for ind, row in all_stats.iterrows():\n",
    "        if row['nobs_x'] > 1 and row['nobs_y'] > 1 and row['value_x'] != 0 and row['value_y'] !=0:\n",
    "            stat, p_val = stats.ttest_ind_from_stats(\n",
    "                    row['value_x'], row['value_x'], row['nobs_x'],\n",
    "                    row['value_y'], row['value_y'], row['nobs_y'], equal_var = False)\n",
    "            summary.append([row['variable'], row['index'], stat, p_val])\n",
    "        else:\n",
    "            summary.append([row['variable'], row['index'], np.nan, np.nan])\n",
    "\n",
    "    summary = pd.DataFrame(summary, columns = ['residue', 'codon', \n",
    "                                               't_stat', 'p_value'])\n",
    "    return(summary)"
   ]
  },
  {
   "cell_type": "code",
   "execution_count": 4,
   "id": "6672385d",
   "metadata": {},
   "outputs": [],
   "source": [
    "p_val_syn = p_values_means('Glu_Gal', 'Glu_Gc', '')\n",
    "# p_val_syn.to_csv('pval_Glu_Gal_Glu_Gc_syn.csv')"
   ]
  },
  {
   "cell_type": "code",
   "execution_count": 5,
   "id": "693cc257",
   "metadata": {},
   "outputs": [],
   "source": [
    "p_val_nosyn = p_values_means('Glu_Gal', 'Glu_Gc', '_nosyn')\n",
    "# p_val_nosyn.to_csv('pval_Glu_Gal_Glu_Gc_nosyn.csv')"
   ]
  },
  {
   "cell_type": "code",
   "execution_count": null,
   "id": "31207bf9",
   "metadata": {},
   "outputs": [],
   "source": []
  }
 ],
 "metadata": {
  "kernelspec": {
   "display_name": "Python 3",
   "language": "python",
   "name": "python3"
  },
  "language_info": {
   "codemirror_mode": {
    "name": "ipython",
    "version": 3
   },
   "file_extension": ".py",
   "mimetype": "text/x-python",
   "name": "python",
   "nbconvert_exporter": "python",
   "pygments_lexer": "ipython3",
   "version": "3.9.2"
  }
 },
 "nbformat": 4,
 "nbformat_minor": 5
}
