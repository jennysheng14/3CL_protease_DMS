{
 "cells": [
  {
   "cell_type": "code",
   "execution_count": 1,
   "id": "bound-consolidation",
   "metadata": {},
   "outputs": [],
   "source": [
    "import glob\n",
    "import gzip\n",
    "import itertools\n",
    "import matplotlib.pyplot as plt\n",
    "import numpy as np\n",
    "import pandas as pd\n",
    "import os\n",
    "from scipy import stats\n",
    "import sys\n",
    "import re\n",
    "\n",
    "from Bio.Seq import Seq\n",
    "from collections import Counter\n",
    "import plotly.express as px\n",
    "import plotly.graph_objects as go\n",
    "from plotly.subplots import make_subplots\n",
    "import plotly.offline as offline\n",
    "import seaborn as sns\n",
    "\n",
    "import matrix_transform\n",
    "import visualize\n",
    "\n",
    "%matplotlib inline\n",
    "sns.set(font=\"Arial\")\n",
    "sns.set_theme(style=\"ticks\")\n",
    "\n",
    "colors = ['#D81B60', '#1E88E5', '#FFC107', '#31B547']\n",
    "sns.set_palette(sns.color_palette(colors))"
   ]
  },
  {
   "cell_type": "code",
   "execution_count": 15,
   "id": "fifth-chicken",
   "metadata": {},
   "outputs": [],
   "source": [
    "DNA = ('atgagtggttttagaaaaatggcattcccatctggtaaagttgagggttg'\n",
    "       'tatggtacaagtaacttgtggtacaactacacttaacggtctttggcttg'\n",
    "       'atgacgtagtttactgtccaagacatgtgatctgcacctctgaagacatg'\n",
    "       'cttaaccctaattatgaagatttactcattcgtaagtctaatcataattt'\n",
    "       'cttggtacaggctggtaatgttcaactcagggttattggacattctatgc'\n",
    "       'aaaattgtgtacttaagcttaaggttgatacagccaatcctaagacacct'\n",
    "       'aagtataagtttgttcgcattcaaccaggacagactttttcagtgttagc'\n",
    "       'ttgttacaatggttcaccatctggtgtttaccaatgtgctatgaggccca'\n",
    "       'atttcactattaagggttcattccttaatggttcatgtggtagtgttggt'\n",
    "       'tttaacatagattatgactgtgtctctttttgttacatgcaccatatgga'\n",
    "       'attaccaactggagttcatgctggcacagacttagaaggtaacttttatg'\n",
    "       'gaccttttgttgacaggcaaacagcacaagcagctggtacggacacaact'\n",
    "       'attacagttaatgttttagcttggttgtacgctgctgttataaatggaga'\n",
    "       'caggtggtttctcaatcgatttaccacaactcttaatgactttaaccttg'\n",
    "       'tggctatgaagtacaattatgaacctctaacacaagaccatgttgacata'\n",
    "       'ctaggacctctttctgctcaaactggaattgccgttttagatatgtgtgc'\n",
    "       'ttcattaaaagaattactgcaaaatggtatgaatggacgtaccatattgg'\n",
    "       'gtagtgctttattagaagatgaatttacaccttttgatgttgttagacaa'\n",
    "       'tgctcaggtgttactttccaa')\n",
    "wt_full = ('MSGFRKMAFPSGKVEGCMVQVTCGTTTLNGLWLDDVVYCPRHVICT'\n",
    "           'SEDMLNPNYEDLLIRKSNHNFLVQAGNVQLRVIGHSMQNCVLKLKV'\n",
    "           'DTANPKTPKYKFVRIQPGQTFSVLACYNGSPSGVYQCAMRPNFTIK'\n",
    "           'GSFLNGSCGSVGFNIDYDCVSFCYMHHMELPTGVHAGTDLEGNFYG'\n",
    "           'PFVDRQTAQAAGTDTTITVNVLAWLYAAVINGDRWFLNRFTTTLND'\n",
    "           'FNLVAMKYNYEPLTQDHVDILGPLSAQTGIAVLDMCASLKELLQNG'\n",
    "           'MNGRTILGSALLEDEFTPFDVVRQCSGVTFQ')\n",
    "wt_full = [x for x in wt_full]\n",
    "DNA_dict = {\n",
    "        'F':['ttt', 'ttc'],\n",
    "        'L':['tta', 'ttg', 'ctt', 'ctc', 'cta', 'ctg'],\n",
    "        'I':['att', 'atc', 'ata'],\n",
    "        'M':['atg'],\n",
    "        'V':['gtt', 'gtc', 'gta', 'gtg'],\n",
    "        'S':['tct', 'tcc', 'tca', 'tcg', 'agt', 'agc'],\n",
    "        'P':['cct', 'ccc', 'cca', 'ccg'],\n",
    "        'T':['act', 'acc', 'aca', 'acg'],\n",
    "        'A':['gct', 'gcc', 'gca', 'gcg'],\n",
    "        'Y':['tat', 'tac'],\n",
    "        '*':['taa', 'tag', 'tga'],\n",
    "        'H':['cat', 'cac'],\n",
    "        'Q':['caa', 'cag'],\n",
    "        'N':['aat', 'aac'],\n",
    "        'K':['aaa', 'aag'],\n",
    "        'D':['gat', 'gac'],\n",
    "        'E':['gaa', 'gag'],\n",
    "        'C':['tgt', 'tgc'],\n",
    "        'W':['tgg'],\n",
    "        'R':['cgt', 'cgc', 'cga', 'cgg', 'aga', 'agg'],\n",
    "        'G':['ggt', 'ggc', 'gga', 'ggg']\n",
    "            }\n",
    "\n",
    "gc_variant = pd.read_csv('CSVs/gc_resistance_stats.csv', index_col = 0)\n",
    "grl_variant = pd.read_csv('CSVs/grl_resistance_stats.csv', index_col = 0)\n",
    "sample_dir = 'sample_spreadsheet_021521.csv'\n",
    "samples = pd.read_csv(sample_dir)\n",
    "\n",
    "sets = [1, 2, 3, 4, 5, 6, 7,8, 9, 10, 11, 12, 13,\\\n",
    "        14, 15, 16, 17, 18, 19, 20, 'R1']\n",
    "set21 = [21]\n",
    "res_redo = ['8R', '13R1', '13R2', '14R', '16R', \n",
    "           '9R1', '9R2', '10R1', '10R2']\n",
    "\n",
    "all_sets = [1, 2, 3, 4, 5, 6, 7, 11, 12, 13, 14, 15, 16, \n",
    "        17, 18, 19, 20, 21, 8, 9, 10, 'R1',\n",
    "       '8R', '13R1', '13R2', '14R', '16R',\n",
    "        '9R1', '9R2', '10R1', '10R2']"
   ]
  },
  {
   "cell_type": "code",
   "execution_count": 3,
   "id": "greek-approval",
   "metadata": {},
   "outputs": [],
   "source": [
    "def hamming(a, b):\n",
    "    return sum(c1 != c2 for c1, c2 in zip(a, b))"
   ]
  },
  {
   "cell_type": "markdown",
   "id": "confidential-communication",
   "metadata": {},
   "source": [
    "### GC_variant"
   ]
  },
  {
   "cell_type": "code",
   "execution_count": 4,
   "id": "cooperative-animation",
   "metadata": {},
   "outputs": [],
   "source": [
    "gc_resistant = gc_variant[(gc_variant['hit']==True)&\\\n",
    "           (gc_variant['standardize_gal']<gc_variant['standardize_gc'])]"
   ]
  },
  {
   "cell_type": "code",
   "execution_count": 5,
   "id": "important-guitar",
   "metadata": {},
   "outputs": [],
   "source": [
    "ham_dist_gc = []\n",
    "for ind, row in gc_resistant.iterrows():\n",
    "    res, aa = row['residue'], row['middle']\n",
    "    wt_coding = DNA[res*3:(res+1)*3]\n",
    "    ham_dist_list = []\n",
    "    for coding in DNA_dict[aa]:\n",
    "        ham_dist = hamming(wt_coding,coding)\n",
    "        ham_dist_list.append(ham_dist)\n",
    "    ham_dist_gc.append(min(ham_dist_list))"
   ]
  },
  {
   "cell_type": "code",
   "execution_count": 7,
   "id": "attended-carol",
   "metadata": {},
   "outputs": [
    {
     "data": {
      "text/plain": [
       "(array([ 2.,  0.,  0.,  0.,  0.,  7.,  0.,  0.,  0., 17.]),\n",
       " array([0. , 0.2, 0.4, 0.6, 0.8, 1. , 1.2, 1.4, 1.6, 1.8, 2. ]),\n",
       " <BarContainer object of 10 artists>)"
      ]
     },
     "execution_count": 7,
     "metadata": {},
     "output_type": "execute_result"
    },
    {
     "data": {
      "image/png": "[encoded data removed]",
      "text/plain": [
       "<Figure size 432x288 with 1 Axes>"
      ]
     },
     "metadata": {},
     "output_type": "display_data"
    }
   ],
   "source": [
    "plt.hist(ham_dist_gc)"
   ]
  },
  {
   "cell_type": "markdown",
   "id": "willing-gilbert",
   "metadata": {},
   "source": [
    "### GRL variants"
   ]
  },
  {
   "cell_type": "code",
   "execution_count": 8,
   "id": "worst-kennedy",
   "metadata": {},
   "outputs": [],
   "source": [
    "grl_resistant = grl_variant[(grl_variant['hit']==True)&\\\n",
    "           (grl_variant['standardize_gal']<grl_variant['standardize_grl'])]"
   ]
  },
  {
   "cell_type": "code",
   "execution_count": 9,
   "id": "dental-melbourne",
   "metadata": {},
   "outputs": [],
   "source": [
    "ham_dist_grl = []\n",
    "for ind, row in grl_resistant.iterrows():\n",
    "    res, aa = row['residue'], row['middle']\n",
    "    wt_coding = DNA[res*3:(res+1)*3]\n",
    "    ham_dist_list = []\n",
    "    for coding in DNA_dict[aa]:\n",
    "        ham_dist = hamming(wt_coding,coding)\n",
    "        ham_dist_list.append(ham_dist)\n",
    "    ham_dist_grl.append(min(ham_dist_list))"
   ]
  },
  {
   "cell_type": "code",
   "execution_count": 10,
   "id": "worldwide-aging",
   "metadata": {},
   "outputs": [
    {
     "data": {
      "text/plain": [
       "(array([ 2.,  0.,  0., 29.,  0.,  0., 42.,  0.,  0.,  4.]),\n",
       " array([0. , 0.3, 0.6, 0.9, 1.2, 1.5, 1.8, 2.1, 2.4, 2.7, 3. ]),\n",
       " <BarContainer object of 10 artists>)"
      ]
     },
     "execution_count": 10,
     "metadata": {},
     "output_type": "execute_result"
    },
    {
     "data": {
      "image/png": "[encoded data removed]",
      "text/plain": [
       "<Figure size 432x288 with 1 Axes>"
      ]
     },
     "metadata": {},
     "output_type": "display_data"
    }
   ],
   "source": [
    "plt.hist(ham_dist_grl)"
   ]
  },
  {
   "cell_type": "code",
   "execution_count": 11,
   "id": "speaking-seller",
   "metadata": {},
   "outputs": [
    {
     "name": "stdout",
     "output_type": "stream",
     "text": [
      "Counter({2: 42, 1: 29, 3: 4, 0: 2}) Counter({2: 17, 1: 7, 0: 2})\n"
     ]
    }
   ],
   "source": [
    "print(Counter(ham_dist_grl), Counter(ham_dist_gc))"
   ]
  },
  {
   "cell_type": "markdown",
   "id": "ecological-theorem",
   "metadata": {},
   "source": [
    "### single mutation fitness"
   ]
  },
  {
   "cell_type": "code",
   "execution_count": 121,
   "id": "earlier-statement",
   "metadata": {},
   "outputs": [],
   "source": [
    "all_residues = matrix_transform.transform_matrix(\n",
    "    'new_glu_gal', 'gal_glu.csv', samples, sets, res_redo, all_sets, set21)"
   ]
  },
  {
   "cell_type": "code",
   "execution_count": 157,
   "id": "powerful-figure",
   "metadata": {},
   "outputs": [],
   "source": [
    "bases = ['a', 'c', 't', 'g']\n",
    "def activity(mut_from, mut_to):\n",
    "    activity = []\n",
    "    for res in range(1, 307):\n",
    "        codon = DNA[3*res: 3*(res+1)]\n",
    "        c_occur = [i for i, letter in enumerate(codon) if letter == mut_from]\n",
    "        codon_list = list(codon)\n",
    "        if len(c_occur)==1:\n",
    "            t_sub = codon_list[:c_occur[0]]+[mut_to]+codon_list[c_occur[0]+1:]\n",
    "            t_sub = \"\".join(t_sub)\n",
    "            t_seq = str(Seq(t_sub).translate())\n",
    "            activity_val = all_residues['Res '+ str(res)].loc[t_seq]\n",
    "            activity.append(activity_val)\n",
    "        elif len(c_occur) > 1:\n",
    "            for sub in c_occur:\n",
    "                t_sub = codon_list[:sub]+[mut_to]+codon_list[sub+1:]\n",
    "                t_sub = \"\".join(t_sub)\n",
    "                t_seq = str(Seq(t_sub).translate())\n",
    "                activity_val = all_residues['Res '+ str(res)].loc[t_seq]\n",
    "                activity.append(activity_val)\n",
    "    return(activity)"
   ]
  },
  {
   "cell_type": "code",
   "execution_count": 182,
   "id": "offensive-salon",
   "metadata": {},
   "outputs": [
    {
     "data": {
      "image/png": "[encoded data removed]",
      "text/plain": [
       "<Figure size 1152x576 with 16 Axes>"
      ]
     },
     "metadata": {},
     "output_type": "display_data"
    }
   ],
   "source": [
    "fig, axes = plt.subplots(4, 4, sharex=True, sharey=True,figsize=(16,8))\n",
    "\n",
    "for ind, a in enumerate(['a', 'c', 'g', 't']):\n",
    "    for ind2, b in enumerate(['a', 'c', 'g', 't']):\n",
    "        if a != b:\n",
    "            act = activity(a, b)\n",
    "            sns.histplot(act, ax=axes[ind, ind2], \n",
    "                         binwidth = 0.1).set_title(str(a)+'->'+str(b)+\\\n",
    "                        '; mean = ' +\"{:0.2f}\".format(np.mean(act)))\n",
    "            \n",
    "fig.savefig(\"Figures/FigS2_nucleotide_transition.png\", dpi=400)"
   ]
  },
  {
   "cell_type": "code",
   "execution_count": null,
   "id": "false-africa",
   "metadata": {},
   "outputs": [],
   "source": []
  }
 ],
 "metadata": {
  "kernelspec": {
   "display_name": "Python 3",
   "language": "python",
   "name": "python3"
  },
  "language_info": {
   "codemirror_mode": {
    "name": "ipython",
    "version": 3
   },
   "file_extension": ".py",
   "mimetype": "text/x-python",
   "name": "python",
   "nbconvert_exporter": "python",
   "pygments_lexer": "ipython3",
   "version": "3.6.10"
  }
 },
 "nbformat": 4,
 "nbformat_minor": 5
}
